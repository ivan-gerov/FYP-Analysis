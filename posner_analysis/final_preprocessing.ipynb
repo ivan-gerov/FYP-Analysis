{
 "cells": [
  {
   "cell_type": "code",
   "execution_count": null,
   "metadata": {},
   "outputs": [],
   "source": [
    "%matplotlib qt \n",
    "\n",
    "import pandas as pd\n",
    "import numpy as np\n",
    "import os\n",
    "import re \n",
    "import matplotlib.pyplot as plt\n",
    "import scipy.io\n",
    "from functools import reduce\n",
    "import json"
   ]
  },
  {
   "cell_type": "code",
   "execution_count": null,
   "metadata": {},
   "outputs": [],
   "source": [
    "# Loading data from participants\n",
    "participants = []\n",
    "for file_ in os.listdir(os.getcwd()):\n",
    "    if re.match('par_\\d', file_) != None:\n",
    "        participants.append(file_)\n",
    "        \n",
    "dfs = {}\n",
    "for par in participants:\n",
    "    data = os.path.join(os.getcwd(),\n",
    "            f'{par}\\\\data\\\\behavioural_data.csv')\n",
    "    dfs[par] = pd.read_csv(data)"
   ]
  },
  {
   "cell_type": "code",
   "execution_count": null,
   "metadata": {},
   "outputs": [],
   "source": [
    "def transform_data(df):\n",
    "    \"\"\" Transforms the participant behavioural dataframe to\n",
    "    a format where each cell has the mean reaction time based on the \n",
    "    cueValid/cueInvalid over the lofi, silence and white conditions\"\"\"\n",
    "    \n",
    "    # Get the mean over the groupings as explained in the DocString\n",
    "    df = df.groupby(['cueValid', 'condition']).mean()\n",
    "    \n",
    "    \n",
    "    # Original first level of the index are bools, which make\n",
    "    # Pandas act funky, so change those to 'cueInvalid', 'cueValid'\n",
    "    \n",
    "    def ensure_mapping(index_tuple):\n",
    "        \"\"\" Ensures the correct mapping of the\n",
    "        cueValidity bool to the new index name\"\"\"\n",
    "    \n",
    "        a, b = index_tuple\n",
    "\n",
    "        if a == True:\n",
    "            a = 'cueValid'\n",
    "            b = 'cueInvalid'\n",
    "        else:\n",
    "            b = 'cueValid'\n",
    "            a = 'cueInvalid'\n",
    "\n",
    "        print(f'Index tuple: {index_tuple}')\n",
    "        print(f'Re-indexed tuple: {(a, b)}')\n",
    "        return (a, b)\n",
    "\n",
    "    df.index = df.index.set_levels(ensure_mapping(df.index.levels[0]), level= 0 )\n",
    "    \n",
    "    # Transpose the DataFrame\n",
    "    df = df.T\n",
    "    \n",
    "    # Flatten columns\n",
    "    df.columns = df.columns.map('_'.join)\n",
    "    \n",
    "    # Important to remove the index for ease of use\n",
    "    df.reset_index(drop= True, inplace= True)\n",
    "    \n",
    "    return df "
   ]
  },
  {
   "cell_type": "code",
   "execution_count": null,
   "metadata": {},
   "outputs": [],
   "source": [
    "complete_behavioural_data = pd.concat([transform_data(df) for df in dfs.values() ],\n",
    "                                     ignore_index= True)"
   ]
  },
  {
   "cell_type": "code",
   "execution_count": null,
   "metadata": {},
   "outputs": [],
   "source": [
    "complete_behavioural_data"
   ]
  },
  {
   "cell_type": "code",
   "execution_count": null,
   "metadata": {},
   "outputs": [],
   "source": [
    "complete_behavioural_data.to_csv(\n",
    "    './rt_mean_over_conditions.csv',\n",
    "    encoding= 'utf8',\n",
    "    index= False\n",
    ")"
   ]
  }
 ],
 "metadata": {
  "kernelspec": {
   "display_name": "Python 3.7.3 64-bit",
   "language": "python",
   "name": "python37364bit5ce9db9e7da94f4699f91d5f590f81c0"
  },
  "language_info": {
   "codemirror_mode": {
    "name": "ipython",
    "version": 3
   },
   "file_extension": ".py",
   "mimetype": "text/x-python",
   "name": "python",
   "nbconvert_exporter": "python",
   "pygments_lexer": "ipython3",
   "version": "3.7.3"
  }
 },
 "nbformat": 4,
 "nbformat_minor": 2
}
