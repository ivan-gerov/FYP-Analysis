{
 "cells": [
  {
   "cell_type": "code",
   "execution_count": null,
   "metadata": {},
   "outputs": [],
   "source": [
    "%matplotlib qt\n",
    "\n",
    "import pandas as pd\n",
    "import numpy as np\n",
    "import mne\n",
    "import os\n",
    "import matplotlib.pyplot as plt\n",
    "import scipy.io\n",
    "from functools import reduce"
   ]
  },
  {
   "cell_type": "code",
   "execution_count": null,
   "metadata": {},
   "outputs": [],
   "source": [
    "CURRENT_PARTICIPANT = 'par_11'\n",
    "\n",
    "if CURRENT_PARTICIPANT not in os.listdir(os.getcwd()):\n",
    "    \n",
    "    print('Participant folder not found')\n",
    "    \n",
    "    EEG_ANALYSIS_PARTICIPANT_FOLDER = os.path.join(os.getcwd(), CURRENT_PARTICIPANT)\n",
    "    os.mkdir(EEG_ANALYSIS_PARTICIPANT_FOLDER)\n",
    "    \n",
    "    PARTICIPANT_MNE_RAW_PATH = os.path.join(EEG_ANALYSIS_PARTICIPANT_FOLDER, 'mne_raw')\n",
    "    os.mkdir(PARTICIPANT_MNE_RAW_PATH)\n",
    "    \n",
    "else:\n",
    "    print('Participant folder found!')\n",
    "    EEG_ANALYSIS_PARTICIPANT_FOLDER = os.path.join(os.getcwd(), CURRENT_PARTICIPANT)\n",
    "    PARTICIPANT_MNE_RAW_PATH = os.path.join(EEG_ANALYSIS_PARTICIPANT_FOLDER, 'mne_raw')"
   ]
  },
  {
   "cell_type": "code",
   "execution_count": null,
   "metadata": {},
   "outputs": [],
   "source": [
    "if 'blocks' not in os.listdir(os.getcwd()):\n",
    "    BLOCKS_FOLDER = os.path.join(EEG_ANALYSIS_PARTICIPANT_FOLDER, 'blocks')\n",
    "    os.mkdir(BLOCKS_FOLDER)"
   ]
  },
  {
   "cell_type": "code",
   "execution_count": null,
   "metadata": {
    "scrolled": true
   },
   "outputs": [],
   "source": [
    "all_blocks = {\n",
    "    'lofi': [],\n",
    "    'white': [],\n",
    "    'silence': []\n",
    "}\n",
    "\n",
    "for file_ in os.listdir(PARTICIPANT_MNE_RAW_PATH):\n",
    "    if 'lofi' in file_:\n",
    "        all_blocks['lofi'].append(os.path.join(PARTICIPANT_MNE_RAW_PATH, file_))\n",
    "    \n",
    "    elif 'white' in file_:\n",
    "        all_blocks['white'].append(os.path.join(PARTICIPANT_MNE_RAW_PATH, file_))\n",
    "        \n",
    "    elif 'silence' in file_:\n",
    "        all_blocks['silence'].append(os.path.join(PARTICIPANT_MNE_RAW_PATH, file_))\n",
    "\n",
    "for k, v in all_blocks.items():\n",
    "    all_blocks[k] = [mne.read_epochs(epo) for epo in v]\n",
    "    all_blocks[k] = mne.concatenate_epochs(all_blocks[k])\n",
    "\n"
   ]
  },
  {
   "cell_type": "code",
   "execution_count": null,
   "metadata": {},
   "outputs": [],
   "source": [
    "for block_name, epochs in all_blocks.items():\n",
    "    epochs.save(f'{BLOCKS_FOLDER}/{block_name}.fif')"
   ]
  }
 ],
 "metadata": {
  "kernelspec": {
   "display_name": "Python 3.7.3 64-bit",
   "language": "python",
   "name": "python37364bit5ce9db9e7da94f4699f91d5f590f81c0"
  },
  "language_info": {
   "codemirror_mode": {
    "name": "ipython",
    "version": 3
   },
   "file_extension": ".py",
   "mimetype": "text/x-python",
   "name": "python",
   "nbconvert_exporter": "python",
   "pygments_lexer": "ipython3",
   "version": "3.7.3"
  }
 },
 "nbformat": 4,
 "nbformat_minor": 2
}
